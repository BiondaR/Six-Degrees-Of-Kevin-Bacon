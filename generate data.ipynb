{
 "cells": [
  {
   "cell_type": "code",
   "execution_count": 1,
   "metadata": {},
   "outputs": [],
   "source": [
    "#################################################################################\n",
    "#                           Análise de Algoritmos                               #\n",
    "#                                                                               #\n",
    "#                               Bionda Rozin                                    #\n",
    "#                           João Pedro Brum Terra                               #\n",
    "#                           Marina Barbosa Américo                              #\n",
    "#                            Nikolas Gomes de Sá                                #\n",
    "#                                                                               #\n",
    "#                Professor: Daniel Carlos Guimarães Pedronette                  #\n",
    "#                                                                               #\n",
    "#           Trabalho final da Disciplina: Six Degrees of Kevin Bacon            #\n",
    "#                                                                               #\n",
    "#                                02/03/2022                                     #\n",
    "#################################################################################"
   ]
  },
  {
   "cell_type": "code",
   "execution_count": 2,
   "metadata": {},
   "outputs": [],
   "source": [
    "# Imports\n",
    "import pandas as pd"
   ]
  },
  {
   "cell_type": "code",
   "execution_count": 3,
   "metadata": {},
   "outputs": [],
   "source": [
    "# Carregamento do dataset principal, com os IDs de títulos e atores\n",
    "fields_principals = ['tconst', 'nconst']\n",
    "principals = pd.read_csv(\"D:\\\\Downloads\\\\KevinBaconData\\\\title.principals.tsv\\\\data.tsv\", sep=\"\\t\", usecols=fields_principals)"
   ]
  },
  {
   "cell_type": "code",
   "execution_count": 8,
   "metadata": {},
   "outputs": [],
   "source": [
    "# Carregamento do dataset com os IDs e nomes dos títulos\n",
    "fields_titles = ['tconst', 'originalTitle', 'titleType']\n",
    "title = pd.read_csv(\"D:\\\\Downloads\\\\KevinBaconData\\\\title.basics.tsv\\\\data.tsv\", sep=\"\\t\", usecols=fields_titles)"
   ]
  },
  {
   "cell_type": "code",
   "execution_count": 9,
   "metadata": {},
   "outputs": [],
   "source": [
    "# Encontrar apenas os filmes, dentre todos os títulos\n",
    "title.drop(title[(title['titleType'] != 'movie')].index, inplace=True)\n",
    "title.drop(['titleType'], axis='columns', inplace=True)"
   ]
  },
  {
   "cell_type": "code",
   "execution_count": 10,
   "metadata": {},
   "outputs": [],
   "source": [
    "# Relacionar os IDs com os nomes dos títulos\n",
    "merged1 = pd.merge(principals, title, how='inner', on = 'tconst')"
   ]
  },
  {
   "cell_type": "code",
   "execution_count": 11,
   "metadata": {},
   "outputs": [],
   "source": [
    "# Carregamento do dataset com os IDs e nomes dos atores\n",
    "fields_names = ['nconst', 'primaryName']\n",
    "name = pd.read_csv(\"D:\\\\Downloads\\\\KevinBaconData\\\\name.basics.tsv\\\\data.tsv\", sep=\"\\t\", usecols=fields_names)"
   ]
  },
  {
   "cell_type": "code",
   "execution_count": 12,
   "metadata": {},
   "outputs": [],
   "source": [
    "# Relacionar os IDs com os nomes dos atores\n",
    "merged2 = pd.merge(merged1, name, how='inner', on = 'nconst')"
   ]
  },
  {
   "cell_type": "code",
   "execution_count": 13,
   "metadata": {},
   "outputs": [],
   "source": [
    "# Remover as colunas que contêm os IDs de títulos e atores\n",
    "merged2.drop(['tconst', 'nconst'], axis='columns', inplace=True)"
   ]
  },
  {
   "cell_type": "code",
   "execution_count": 14,
   "metadata": {},
   "outputs": [],
   "source": [
    "# Salvar o arquivo\n",
    "merged2.to_csv('IMDB.csv', index=False)"
   ]
  }
 ],
 "metadata": {
  "interpreter": {
   "hash": "4ce0e62306dd6a5716965d4519ada776f947e6dfc145b604b11307c10277ef29"
  },
  "kernelspec": {
   "display_name": "Python 3.9.2 64-bit",
   "language": "python",
   "name": "python3"
  },
  "language_info": {
   "codemirror_mode": {
    "name": "ipython",
    "version": 3
   },
   "file_extension": ".py",
   "mimetype": "text/x-python",
   "name": "python",
   "nbconvert_exporter": "python",
   "pygments_lexer": "ipython3",
   "version": "3.9.2"
  },
  "orig_nbformat": 4
 },
 "nbformat": 4,
 "nbformat_minor": 2
}
