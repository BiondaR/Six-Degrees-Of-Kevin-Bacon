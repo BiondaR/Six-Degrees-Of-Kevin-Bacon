{
 "cells": [
  {
   "cell_type": "code",
   "execution_count": 1,
   "metadata": {},
   "outputs": [],
   "source": [
    "#################################################################################\n",
    "#                           Análise de Algoritmos                               #\n",
    "#                                                                               #\n",
    "#                               Bionda Rozin                                    #\n",
    "#                           João Pedro Brum Terra                               #\n",
    "#                           Marina Barbosa Américo                              #\n",
    "#                            Nikolas Gomes de Sá                                #\n",
    "#                                                                               #\n",
    "#                Professor: Daniel Carlos Guimarães Pedronette                  #\n",
    "#                                                                               #\n",
    "#           Trabalho final da Disciplina: Six Degrees of Kevin Bacon            #\n",
    "#                                                                               #\n",
    "#                                02/03/2022                                     #\n",
    "#################################################################################"
   ]
  },
  {
   "cell_type": "code",
   "execution_count": 2,
   "metadata": {},
   "outputs": [],
   "source": [
    "# Imports\n",
    "import pandas as pd\n",
    "import numpy as np\n",
    "import statistics\n",
    "import time\n",
    "import BFS"
   ]
  },
  {
   "cell_type": "code",
   "execution_count": 3,
   "metadata": {},
   "outputs": [],
   "source": [
    "# Carregamento do arquivo\n",
    "df = pd.read_csv('IMDB.csv')\n",
    "#df.head()"
   ]
  },
  {
   "cell_type": "code",
   "execution_count": 4,
   "metadata": {},
   "outputs": [],
   "source": [
    "# Geração de um grafo, em forma de dicionário, com os títulos como vértices e atores como arestas\n",
    "title = df.groupby([\"originalTitle\"]).agg({\"primaryName\": lambda x: x.tolist()}, axis=1).reset_index()\n",
    "graph1 = dict(zip(title.originalTitle, title.primaryName))"
   ]
  },
  {
   "cell_type": "code",
   "execution_count": 5,
   "metadata": {},
   "outputs": [],
   "source": [
    "# Geração de um grafo, em forma de dicionário, com os atores como vértices e títulos como arestas\n",
    "name = df.groupby([\"primaryName\"]).agg({\"originalTitle\": lambda x: x.tolist()}, axis=1).reset_index()\n",
    "graph2 = dict(zip(name.primaryName, name.originalTitle))"
   ]
  },
  {
   "cell_type": "code",
   "execution_count": 6,
   "metadata": {},
   "outputs": [],
   "source": [
    "# União dos dois grafos, formando um grafo de relações entre filmes e atores\n",
    "graph1.update(graph2)"
   ]
  },
  {
   "cell_type": "code",
   "execution_count": 7,
   "metadata": {},
   "outputs": [],
   "source": [
    "# Lista com nomes dos atores\n",
    "atores = df.primaryName.unique().tolist()"
   ]
  },
  {
   "cell_type": "code",
   "execution_count": 9,
   "metadata": {},
   "outputs": [],
   "source": [
    "# Criação de um arquivo log\n",
    "arq = open(\"log.txt\", \"a\")"
   ]
  },
  {
   "cell_type": "code",
   "execution_count": 10,
   "metadata": {},
   "outputs": [
    {
     "data": {
      "text/plain": [
       "'print(\"Distâncias:\", d)\\nprint(\"Pais:\", pai)'"
      ]
     },
     "execution_count": 10,
     "metadata": {},
     "output_type": "execute_result"
    }
   ],
   "source": [
    "# Busca em largura com origem em Kevin Bacon\n",
    "# A busca em largura encontra os caminhos mais curtos de um vértice origem até todos os nós atingíveis\n",
    "# É calculada a média de tempo de 5 execuções\n",
    "print(\"BFS\", file=arq)\n",
    "tempo = []\n",
    "for i in range(5):\n",
    "    t1 = time.time()\n",
    "    d, pai, comparacoes = BFS.BFS(graph1, \"Kevin Bacon\")\n",
    "    t2 = time.time()\n",
    "\n",
    "    tempo.append(t2-t1)\n",
    "    print(tempo[i], file=arq)\n",
    "\n",
    "print(\"Tempo: \", np.mean(np.asarray(tempo)),\"+-\",np.std(np.asarray(tempo)),\"s\",file=arq)\n",
    "print(\"Comparações:\", comparacoes, file=arq)\n",
    "\n",
    "'''print(\"Distâncias:\", d)\n",
    "print(\"Pais:\", pai)'''"
   ]
  },
  {
   "cell_type": "code",
   "execution_count": 11,
   "metadata": {},
   "outputs": [
    {
     "name": "stdout",
     "output_type": "stream",
     "text": [
      "Kevin Bacon participou de Flatliners com Laurence Mark\n",
      "Laurence Mark participou de Glitter com Mariah Carey\n",
      "grau de separação: 2\n",
      "Kevin Bacon participou de Flatliners com Laurence Mark\n",
      "Laurence Mark participou de Glitter com Mariah Carey\n",
      "grau de separação: 2\n",
      "Kevin Bacon participou de Flatliners com Laurence Mark\n",
      "Laurence Mark participou de Glitter com Mariah Carey\n",
      "grau de separação: 2\n",
      "Kevin Bacon participou de Flatliners com Laurence Mark\n",
      "Laurence Mark participou de Glitter com Mariah Carey\n",
      "grau de separação: 2\n",
      "Kevin Bacon participou de Flatliners com Laurence Mark\n",
      "Laurence Mark participou de Glitter com Mariah Carey\n",
      "grau de separação: 2\n"
     ]
    }
   ],
   "source": [
    "# Análise de complexidade para as funções FindPath e PrintPath para um único caminho, \n",
    "# considerando tempo e comparações\n",
    "print(\"Caminho de Kevin Bacon a Mariah Carey\", file=arq)\n",
    "\n",
    "tempo = []\n",
    "print(\"FindPath\", file=arq)\n",
    "for i in range(5):\n",
    "    t1 = time.time()\n",
    "    lista = []\n",
    "    comparacoes = BFS.FindPath(graph1, \"Kevin Bacon\", \"Mariah Carey\", pai, lista)\n",
    "    t2 = time.time()\n",
    "\n",
    "    tempo.append(t2-t1)\n",
    "    print(tempo[i], file=arq)\n",
    "\n",
    "print(\"Tempo: \", np.mean(np.asarray(tempo)),\"+-\",np.std(np.asarray(tempo)),\"s\",file=arq)\n",
    "print(\"Comparações:\", comparacoes, file=arq)\n",
    "\n",
    "tempo = []\n",
    "print(\"PrintPath\", file=arq)\n",
    "for i in range(5):\n",
    "    t1 = time.time()\n",
    "    comparacoes = BFS.PrintPath(lista)\n",
    "    t2 = time.time()\n",
    "\n",
    "    tempo.append(t2-t1)\n",
    "    print(tempo[i], file=arq)\n",
    "\n",
    "print(\"Tempo: \", np.mean(np.asarray(tempo)),\"+-\",np.std(np.asarray(tempo)),\"s\",file=arq)\n",
    "print(\"Comparações:\", comparacoes, file=arq)"
   ]
  },
  {
   "cell_type": "code",
   "execution_count": 16,
   "metadata": {},
   "outputs": [],
   "source": [
    "# Análise de complexidade da contagem dos graus\n",
    "print(\"Contagem dos graus\", file=arq)\n",
    "\n",
    "tempo = []\n",
    "for i in range(5):\n",
    "    t1 = time.time()\n",
    "    d, comparacoes = BFS.ContagemGraus(graph1, atores)\n",
    "    t2 = time.time()\n",
    "\n",
    "    tempo.append(t2-t1)\n",
    "    print(tempo[i], file=arq)\n",
    "\n",
    "print(\"Tempo: \", np.mean(np.asarray(tempo)),\"+-\",np.std(np.asarray(tempo)),\"s\",file=arq)\n",
    "print(\"Comparações:\", comparacoes, file=arq)\n",
    "media = statistics.mean(d.values())\n",
    "maximo = max(d, key=d.get)\n",
    "minimo = min(d, key=d.get)\n",
    "\n",
    "print(\"Grau médio:\", media, file=arq)\n",
    "print(\"Grau mínimo:\", minimo, d[minimo], file=arq)\n",
    "print(\"Grau máximo:\", maximo, d[maximo], file=arq)"
   ]
  },
  {
   "cell_type": "code",
   "execution_count": 11,
   "metadata": {},
   "outputs": [],
   "source": [
    "# Análise de complexidade da busca de todos os caminhos\n",
    "print(\"Busca de todos os caminhos\", file=arq)\n",
    "\n",
    "tempo = []\n",
    "for i in range(5):\n",
    "    t1 = time.time()\n",
    "    d, comparacoes = BFS.findallPaths(graph1, atores, pai)\n",
    "    t2 = time.time()\n",
    "\n",
    "    tempo.append(t2-t1)\n",
    "    print(tempo[i], file=arq)\n",
    "\n",
    "print(\"Tempo: \", np.mean(np.asarray(tempo)),\"+-\",np.std(np.asarray(tempo)),\"s\",file=arq)\n",
    "print(\"Comparações:\", comparacoes, file=arq)\n",
    "\n",
    "media = statistics.mean(d.values())\n",
    "maximo = max(d, key=d.get)\n",
    "minimo = min(d, key=d.get)\n",
    "# atores correspondentes-> COLOCAR\n",
    "print(\"Bacon Number médio:\", media, file=arq)\n",
    "print(\"Grau mínimo:\", minimo, d[minimo], file=arq)\n",
    "print(\"Grau máximo:\", maximo, d[maximo], file=arq)"
   ]
  },
  {
   "cell_type": "code",
   "execution_count": 12,
   "metadata": {},
   "outputs": [],
   "source": [
    "arq.close()"
   ]
  },
  {
   "cell_type": "markdown",
   "metadata": {},
   "source": [
    "# Exemplos"
   ]
  },
  {
   "cell_type": "code",
   "execution_count": 8,
   "metadata": {},
   "outputs": [
    {
     "name": "stdout",
     "output_type": "stream",
     "text": [
      "Kevin Bacon participou de Flatliners com Laurence Mark\n",
      "Laurence Mark participou de Glitter com Mariah Carey\n",
      "grau de separação: 2\n"
     ]
    }
   ],
   "source": [
    "# Caminho de Kevin Bacon a Mariah Carey\n",
    "lista = []\n",
    "BFS.FindPath(graph1, \"Kevin Bacon\", \"Mariah Carey\", pai, lista)\n",
    "BFS.PrintPath(lista)"
   ]
  },
  {
   "cell_type": "code",
   "execution_count": 10,
   "metadata": {},
   "outputs": [
    {
     "name": "stdout",
     "output_type": "stream",
     "text": [
      "Kevin Bacon participou de A Few Good Men com Tom Cruise\n",
      "grau de separação: 1\n"
     ]
    }
   ],
   "source": [
    "# Caminho de Kevin Bacon a Tom Cruise\n",
    "lista = []\n",
    "BFS.FindPath(graph1, \"Kevin Bacon\", \"Tom Cruise\", pai, lista)\n",
    "BFS.PrintPath(lista)"
   ]
  },
  {
   "cell_type": "code",
   "execution_count": 11,
   "metadata": {},
   "outputs": [
    {
     "name": "stdout",
     "output_type": "stream",
     "text": [
      "Kevin Bacon participou de The Woodsman com David Horn\n",
      "David Horn participou de Tony Bennett & Lady Gaga: Cheek to Cheek Live! com Lady Gaga\n",
      "grau de separação: 2\n"
     ]
    }
   ],
   "source": [
    "# Caminho de Kevin Bacon a Lady Gaga\n",
    "lista = []\n",
    "BFS.FindPath(graph1, \"Kevin Bacon\", \"Lady Gaga\", pai, lista)\n",
    "BFS.PrintPath(lista)"
   ]
  },
  {
   "cell_type": "code",
   "execution_count": 12,
   "metadata": {},
   "outputs": [
    {
     "name": "stdout",
     "output_type": "stream",
     "text": [
      "Kevin Bacon participou de Diner com Peter Sova\n",
      "Peter Sova participou de Samba da Criação do Mundo com Carlos Alberto Camuyrano\n",
      "Carlos Alberto Camuyrano participou de Memórias do Cárcere com Glória Pires\n",
      "grau de separação: 3\n"
     ]
    }
   ],
   "source": [
    "# Caminho de Kevin Bacon a Glória Pires\n",
    "lista = []\n",
    "BFS.FindPath(graph1, \"Kevin Bacon\", \"Glória Pires\", pai, lista)\n",
    "BFS.PrintPath(lista)"
   ]
  },
  {
   "cell_type": "code",
   "execution_count": 13,
   "metadata": {},
   "outputs": [
    {
     "name": "stdout",
     "output_type": "stream",
     "text": [
      "Kevin Bacon participou de Criminal Law com Jerry Goldsmith\n",
      "Jerry Goldsmith participou de The 13th Warrior com Antonio Banderas\n",
      "grau de separação: 2\n"
     ]
    }
   ],
   "source": [
    "# Caminho de Kevin Bacon a Antonio Banderas\n",
    "lista = []\n",
    "BFS.FindPath(graph1, \"Kevin Bacon\", \"Antonio Banderas\", pai, lista)\n",
    "BFS.PrintPath(lista)"
   ]
  },
  {
   "cell_type": "code",
   "execution_count": 10,
   "metadata": {},
   "outputs": [
    {
     "name": "stdout",
     "output_type": "stream",
     "text": [
      "Não existe caminho de Kevin Bacon a Ignacio Coyne "
     ]
    },
    {
     "data": {
      "text/plain": [
       "0"
      ]
     },
     "execution_count": 10,
     "metadata": {},
     "output_type": "execute_result"
    }
   ],
   "source": [
    "# Caminho de Kevin Bacon a Ignacio Coyne\n",
    "lista = []\n",
    "BFS.FindPath(graph1, \"Kevin Bacon\", \"Ignacio Coyne\", pai, lista)\n",
    "BFS.PrintPath(lista)"
   ]
  }
 ],
 "metadata": {
  "interpreter": {
   "hash": "4ce0e62306dd6a5716965d4519ada776f947e6dfc145b604b11307c10277ef29"
  },
  "kernelspec": {
   "display_name": "Python 3.9.2 64-bit",
   "language": "python",
   "name": "python3"
  },
  "language_info": {
   "codemirror_mode": {
    "name": "ipython",
    "version": 3
   },
   "file_extension": ".py",
   "mimetype": "text/x-python",
   "name": "python",
   "nbconvert_exporter": "python",
   "pygments_lexer": "ipython3",
   "version": "3.9.2"
  },
  "orig_nbformat": 4
 },
 "nbformat": 4,
 "nbformat_minor": 2
}
